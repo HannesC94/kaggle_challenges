{
 "cells": [
  {
   "cell_type": "code",
   "execution_count": 1,
   "id": "a06cbed1",
   "metadata": {
    "_cell_guid": "b1076dfc-b9ad-4769-8c92-a6c4dae69d19",
    "_uuid": "8f2839f25d086af736a60e9eeb907d3b93b6e0e5",
    "execution": {
     "iopub.execute_input": "2022-07-22T11:21:59.605580Z",
     "iopub.status.busy": "2022-07-22T11:21:59.604942Z",
     "iopub.status.idle": "2022-07-22T11:21:59.624796Z",
     "shell.execute_reply": "2022-07-22T11:21:59.623819Z"
    },
    "papermill": {
     "duration": 0.028527,
     "end_time": "2022-07-22T11:21:59.627578",
     "exception": false,
     "start_time": "2022-07-22T11:21:59.599051",
     "status": "completed"
    },
    "tags": []
   },
   "outputs": [
    {
     "name": "stdout",
     "output_type": "stream",
     "text": [
      "/kaggle/src/script.ipynb\n",
      "/kaggle/lib/kaggle/gcp.py\n",
      "/kaggle/input/titanic/train.csv\n",
      "/kaggle/input/titanic/test.csv\n",
      "/kaggle/input/titanic/gender_submission.csv\n",
      "/kaggle/working/__notebook__.ipynb\n"
     ]
    }
   ],
   "source": [
    "# This Python 3 environment comes with many helpful analytics libraries installed\n",
    "# It is defined by the kaggle/python Docker image: https://github.com/kaggle/docker-python\n",
    "# For example, here's several helpful packages to load\n",
    "\n",
    "import numpy as np # linear algebra\n",
    "import pandas as pd # data processing, CSV file I/O (e.g. pd.read_csv)\n",
    "\n",
    "# Input data files are available in the read-only \"../input/\" directory\n",
    "# For example, running this (by clicking run or pressing Shift+Enter) will list all files under the input directory\n",
    "\n",
    "import os\n",
    "for dirname, _, filenames in os.walk('/kaggle'):\n",
    "    for filename in filenames:\n",
    "        print(os.path.join(dirname, filename))\n",
    "\n",
    "# You can write up to 20GB to the current directory (/kaggle/working/) that gets preserved as output when you create a version using \"Save & Run All\" \n",
    "# You can also write temporary files to /kaggle/temp/, but they won't be saved outside of the current session"
   ]
  },
  {
   "cell_type": "code",
   "execution_count": null,
   "id": "2828c648",
   "metadata": {},
   "outputs": [],
   "source": [
    "# Import necessary packages\n",
    "from pathlib import Path"
   ]
  },
  {
   "cell_type": "code",
   "execution_count": null,
   "id": "62a00430",
   "metadata": {},
   "outputs": [],
   "source": [
    "# Import data\n",
    "base_path = Path(\"/kaggle/input/titanic\") \n",
    "data_train = pd.read_csv(base_path / \"train.csv\" )"
   ]
  },
  {
   "cell_type": "code",
   "execution_count": null,
   "id": "85e610d0",
   "metadata": {},
   "outputs": [],
   "source": [
    "# Random Forest classification\n",
    "from sklearn.ensemble import RandomForestClassifier\n",
    "\n",
    "y = train_data[\"Survived\"]\n",
    "\n",
    "features = [\"Pclass\", \"Sex\", \"SibSp\", \"Parch\"]\n",
    "X = pd.get_dummies(train_data[features])\n",
    "X_test = pd.get_dummies(test_data[features])\n",
    "\n",
    "model = RandomForestClassifier(n_estimators=100, max_depth=5, random_state=1)\n",
    "model.fit(X, y)\n",
    "predictions = model.predict(X_test)\n",
    "\n",
    "output = pd.DataFrame({'PassengerId': test_data.PassengerId, 'Survived': predictions})\n",
    "output.to_csv('submission.csv', index=False)\n",
    "print(\"Your submission was successfully saved!\")"
   ]
  },
  {
   "cell_type": "code",
   "execution_count": null,
   "id": "fa6b19da",
   "metadata": {
    "papermill": {
     "duration": 0.001841,
     "end_time": "2022-07-22T11:21:59.631897",
     "exception": false,
     "start_time": "2022-07-22T11:21:59.630056",
     "status": "completed"
    },
    "tags": []
   },
   "outputs": [],
   "source": [
    "asd"
   ]
  },
  {
   "cell_type": "code",
   "execution_count": null,
   "id": "9e1be05f",
   "metadata": {
    "papermill": {
     "duration": 0.001742,
     "end_time": "2022-07-22T11:21:59.635625",
     "exception": false,
     "start_time": "2022-07-22T11:21:59.633883",
     "status": "completed"
    },
    "tags": []
   },
   "outputs": [],
   "source": [
    "    "
   ]
  },
  {
   "cell_type": "code",
   "execution_count": null,
   "id": "65f64a5d",
   "metadata": {
    "papermill": {
     "duration": 0.001712,
     "end_time": "2022-07-22T11:21:59.639284",
     "exception": false,
     "start_time": "2022-07-22T11:21:59.637572",
     "status": "completed"
    },
    "tags": []
   },
   "outputs": [],
   "source": []
  }
 ],
 "metadata": {
  "kernelspec": {
   "display_name": "Python 3.8.10 64-bit",
   "language": "python",
   "name": "python3"
  },
  "language_info": {
   "codemirror_mode": {
    "name": "ipython",
    "version": 3
   },
   "file_extension": ".py",
   "mimetype": "text/x-python",
   "name": "python",
   "nbconvert_exporter": "python",
   "pygments_lexer": "ipython3",
   "version": "3.8.10"
  },
  "papermill": {
   "default_parameters": {},
   "duration": 11.873321,
   "end_time": "2022-07-22T11:22:00.265972",
   "environment_variables": {},
   "exception": null,
   "input_path": "__notebook__.ipynb",
   "output_path": "__notebook__.ipynb",
   "parameters": {},
   "start_time": "2022-07-22T11:21:48.392651",
   "version": "2.3.4"
  },
  "vscode": {
   "interpreter": {
    "hash": "916dbcbb3f70747c44a77c7bcd40155683ae19c65e1c03b4aa3499c5328201f1"
   }
  }
 },
 "nbformat": 4,
 "nbformat_minor": 5
}
